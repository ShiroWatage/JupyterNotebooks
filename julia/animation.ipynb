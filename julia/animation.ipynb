{
 "cells": [
  {
   "cell_type": "code",
   "execution_count": 1,
   "metadata": {},
   "outputs": [],
   "source": [
    "using Plots\n",
    "import ProgressMeter"
   ]
  },
  {
   "cell_type": "code",
   "execution_count": 2,
   "metadata": {},
   "outputs": [
    {
     "name": "stderr",
     "output_type": "stream",
     "text": [
      "\u001b[32mProgress: 100%|█████████████████████████████████████████| Time: 0:00:43\u001b[39m\n"
     ]
    },
    {
     "data": {
      "text/plain": [
       "Animation(\"/tmp/tmpFcWnwj\", [\"000001.png\", \"000002.png\", \"000003.png\", \"000004.png\", \"000005.png\", \"000006.png\", \"000007.png\", \"000008.png\", \"000009.png\", \"000010.png\"  …  \"000091.png\", \"000092.png\", \"000093.png\", \"000094.png\", \"000095.png\", \"000096.png\", \"000097.png\", \"000098.png\", \"000099.png\", \"000100.png\"])"
      ]
     },
     "execution_count": 2,
     "metadata": {},
     "output_type": "execute_result"
    }
   ],
   "source": [
    "const n = 100\n",
    "prog = ProgressMeter.Progress(n, 1)\n",
    "\n",
    "anim = @animate for i in range(-10, 10,length = n)\n",
    "    X = -10:0.01:10\n",
    "    \n",
    "    Y = sin.(X .+ i)\n",
    "    plot(X, Y)\n",
    "    \n",
    "    ProgressMeter.next!(prog)\n",
    "end"
   ]
  },
  {
   "cell_type": "code",
   "execution_count": 3,
   "metadata": {},
   "outputs": [
    {
     "name": "stderr",
     "output_type": "stream",
     "text": [
      "┌ Info: Saved animation to \n",
      "│   fn = /mnt/c/Users/kent/notebooks/julia/test-fps30.gif\n",
      "└ @ Plots /home/kent/.julia/packages/Plots/oiirH/src/animation.jl:90\n"
     ]
    },
    {
     "data": {
      "text/html": [
       "<img src=\"test-fps30.gif\" />"
      ],
      "text/plain": [
       "Plots.AnimatedGif(\"/mnt/c/Users/kent/notebooks/julia/test-fps30.gif\")"
      ]
     },
     "execution_count": 3,
     "metadata": {},
     "output_type": "execute_result"
    }
   ],
   "source": [
    "dir = \"/\"\n",
    "fps = 30\n",
    "fname = \"test-fps$fps.gif\"\n",
    "\n",
    "gif(anim, fname, fps=fps)"
   ]
  },
  {
   "cell_type": "code",
   "execution_count": null,
   "metadata": {},
   "outputs": [],
   "source": []
  }
 ],
 "metadata": {
  "kernelspec": {
   "display_name": "Julia 1.1.1",
   "language": "julia",
   "name": "julia-1.1"
  },
  "language_info": {
   "file_extension": ".jl",
   "mimetype": "application/julia",
   "name": "julia",
   "version": "1.1.1"
  }
 },
 "nbformat": 4,
 "nbformat_minor": 2
}
