{
 "cells": [
  {
   "cell_type": "markdown",
   "metadata": {},
   "source": [
    "## 決定木を一から書いてみる\n",
    "参考: \n",
    "- http://hktech.hatenablog.com/entry/2018/10/05/004235"
   ]
  },
  {
   "cell_type": "code",
   "execution_count": 1,
   "metadata": {},
   "outputs": [],
   "source": [
    "import numpy as np\n",
    "from sklearn.datasets import load_iris\n",
    "from sklearn.base import BaseEstimator, ClassifierMixin"
   ]
  },
  {
   "cell_type": "markdown",
   "metadata": {},
   "source": [
    "### 不純度\n",
    "不純度としてGini係数を用いる。\n",
    "ノード$t$でのクラス$C_i$の割合を$P^2(C_i|t)$とする。\n",
    "Gini係数は\n",
    "$$\n",
    "\\mathrm{Gini}(t) =  1 - \\sum_{i=1}^{K} P^2(C_i|t)\n",
    "$$\n",
    "と書ける。\n",
    "\n",
    "今回は実数閾値による分割ルールを考える。\n",
    "分割ルールのスコアは子ノードのGini係数をその分割されたデータ数の重みつき和で計算する。\n",
    "$$\n",
    "\\mathrm{score}(t) = \\frac{|D_1|}{|D|}\\mathrm{Gini}(t_1)  + \\frac{|D_2|}{|D|}\\mathrm{Gini}(t_2) \n",
    "$$"
   ]
  },
  {
   "cell_type": "code",
   "execution_count": 23,
   "metadata": {},
   "outputs": [],
   "source": [
    "def gini_index(target):\n",
    "    \"\"\"\n",
    "    閾値で分けた後の子について、クラスの割合を計算する\n",
    "    \"\"\"\n",
    "    acc = 0.0\n",
    "    for cls in np.unique(target):\n",
    "        p = np.count_nonzero(target == cls) / len(target)\n",
    "        acc += p * p\n",
    "\n",
    "    return 1 - acc\n",
    "\n",
    "def gini_score(data, target, feat_idx, threshold):\n",
    "    \"\"\"\n",
    "    data: 対象データ\n",
    "    target: 各データの教師ラベル\n",
    "    feat_idx: 注目するインデックス\n",
    "    threshold: 閾値\n",
    "    \"\"\"\n",
    "    n = len(target)\n",
    "    \n",
    "    upper_bool_idx = data[:, feat_idx] >= threshold\n",
    "    upper, lower = target[upper_bool_idx], target[~upper_bool_idx]\n",
    "    \n",
    "    return (gini_index(upper)*len(upper) + gini_index(lower)*len(lower)) / n    "
   ]
  },
  {
   "cell_type": "markdown",
   "metadata": {},
   "source": [
    "## 不純度が最低になる閾値を探索"
   ]
  },
  {
   "cell_type": "code",
   "execution_count": 77,
   "metadata": {},
   "outputs": [],
   "source": [
    "def find_threshold(data, target):\n",
    "    thresh = best_f = None\n",
    "    min_score = 1\n",
    "    \n",
    "    for feat_idx in range(data.shape[1]):\n",
    "        for val in data[:, feat_idx]:\n",
    "            score = gini_score(data, target, feat_idx, val)\n",
    "            if min_score > score:\n",
    "                min_score = score\n",
    "                thresh = val\n",
    "                best_f = feat_idx\n",
    "    \n",
    "    return thresh, best_f        "
   ]
  },
  {
   "cell_type": "markdown",
   "metadata": {},
   "source": [
    "## 決定木のノード"
   ]
  },
  {
   "cell_type": "code",
   "execution_count": 78,
   "metadata": {},
   "outputs": [],
   "source": [
    "class DTNode(object):\n",
    "    def __init__(self, left, right, threshold, feature, gini, label, bin, depth):\n",
    "        self.left = left\n",
    "        self.right = right\n",
    "        \n",
    "        self.threshold = threshold\n",
    "        self.feature = feature\n",
    "        self.gini = gini\n",
    "        self.label = label\n",
    "        self.depth = depth\n",
    "        self.bin = bin \n",
    "        \n",
    "    def __repr__(self):\n",
    "        if self.left is None and self.right is None:\n",
    "            return f\"<@{self.depth} {self.gini} {self.bin};{self.label}>\"\n",
    "        else:\n",
    "            return f\"(@{self.depth} x[{self.feature}]>={self.threshold}|{self.gini} {self.bin})[\\n{self.left}][\\n{self.right}]\""
   ]
  },
  {
   "cell_type": "markdown",
   "metadata": {},
   "source": [
    "## 自作決定木学習機"
   ]
  },
  {
   "cell_type": "code",
   "execution_count": 79,
   "metadata": {},
   "outputs": [],
   "source": [
    "class MyDecisionTree(BaseEstimator, ClassifierMixin):\n",
    "    def __init__(self, max_depth):\n",
    "        self.max_depth = max_depth\n",
    "        self.tree = None\n",
    "    \n",
    "    def fit(self, data, target):\n",
    "        class_num = len(np.unique(target))\n",
    "        def make_node(data, target, depth):\n",
    "            label = np.argmax(np.bincount(target))\n",
    "            bin = np.zeros(class_num, dtype=np.int)\n",
    "            bc = np.bincount(target)\n",
    "            bin[0:len(bc)] = bc\n",
    "            left_node = right_node = None\n",
    "            \n",
    "            # 深さ制限\n",
    "            if self.max_depth == depth:\n",
    "                return DTNode(left_node, right_node, None, None, gini_index(target), \n",
    "                              label, bin, depth)\n",
    "            #  純粋\n",
    "            elif not np.any(target - target[0]):\n",
    "                return DTNode(left_node, right_node, None, None, 0, \n",
    "                              label, bin, depth)\n",
    "            else:\n",
    "                thresh, best_f = find_threshold(data, target)\n",
    "                idx_left = data[:, best_f] >= thresh\n",
    "\n",
    "                left_node = make_node(data[idx_left], target[idx_left], depth+1)\n",
    "                right_node = make_node(data[~idx_left], target[~idx_left], depth+1)\n",
    "\n",
    "                return DTNode(left_node, right_node, thresh, best_f, gini_index(target), label, bin, depth)\n",
    "        \n",
    "        self.tree = make_node(data, target, 1)\n",
    "        return self\n",
    "    \n",
    "    def predict(self, data):\n",
    "        def inner(tree, bool_idx, pred):\n",
    "            if tree.left is None and tree.right is None:\n",
    "                pred[bool_idx] = tree.label\n",
    "                return pred\n",
    "            else:\n",
    "                left_idx = (data[:, tree.feature] >= tree.threshold) & bool_idx\n",
    "                right_idx = (~left_idx) & bool_idx\n",
    "                inner(tree.left, left_idx, pred)\n",
    "                inner(tree.right, right_idx, pred)\n",
    "                return pred\n",
    "            \n",
    "        size = data.shape[0]\n",
    "        return inner(self.tree, np.ones(size, dtype=bool), np.empty(size))"
   ]
  },
  {
   "cell_type": "markdown",
   "metadata": {},
   "source": []
  },
  {
   "cell_type": "code",
   "execution_count": 80,
   "metadata": {},
   "outputs": [],
   "source": [
    "iris = load_iris()\n",
    "data = iris.data\n",
    "target = iris.target"
   ]
  },
  {
   "cell_type": "code",
   "execution_count": 81,
   "metadata": {},
   "outputs": [],
   "source": [
    "dt = MyDecisionTree(4)"
   ]
  },
  {
   "cell_type": "code",
   "execution_count": 82,
   "metadata": {},
   "outputs": [
    {
     "name": "stdout",
     "output_type": "stream",
     "text": [
      "0.9733333333333334\n"
     ]
    },
    {
     "data": {
      "text/plain": [
       "(@1 x[2]>=3.0|0.6666666666666667 [50 50 50])[\n",
       "(@2 x[3]>=1.8|0.5 [ 0 50 50])[\n",
       "(@3 x[2]>=4.9|0.04253308128544431 [ 0  1 45])[\n",
       "<@4 0.0 [ 0  0 43];2>][\n",
       "<@4 0.4444444444444444 [0 1 2];2>]][\n",
       "(@3 x[2]>=5.0|0.16803840877914955 [ 0 49  5])[\n",
       "<@4 0.4444444444444444 [0 2 4];2>][\n",
       "<@4 0.04079861111111116 [ 0 47  1];1>]]][\n",
       "<@2 0 [50  0  0];0>]"
      ]
     },
     "execution_count": 82,
     "metadata": {},
     "output_type": "execute_result"
    }
   ],
   "source": [
    "dt.fit(data, target)\n",
    "acc = dt.score(data, target)\n",
    "print(acc)\n",
    "dt.tree"
   ]
  },
  {
   "cell_type": "markdown",
   "metadata": {},
   "source": [
    "## プロット"
   ]
  },
  {
   "cell_type": "code",
   "execution_count": 83,
   "metadata": {},
   "outputs": [],
   "source": [
    "import matplotlib.pyplot as plt\n",
    "from matplotlib.colors import ListedColormap\n",
    "%matplotlib inline"
   ]
  },
  {
   "cell_type": "code",
   "execution_count": 84,
   "metadata": {},
   "outputs": [
    {
     "data": {
      "text/plain": [
       "array([0, 1, 2])"
      ]
     },
     "execution_count": 84,
     "metadata": {},
     "output_type": "execute_result"
    }
   ],
   "source": [
    "np.unique(target)"
   ]
  },
  {
   "cell_type": "code",
   "execution_count": 96,
   "metadata": {},
   "outputs": [],
   "source": [
    "bl_idx = np.isin(target, [0,1,2])\n",
    "data01 = data[bl_idx, 0:2]\n",
    "target01 = target[bl_idx]"
   ]
  },
  {
   "cell_type": "code",
   "execution_count": 102,
   "metadata": {},
   "outputs": [
    {
     "name": "stdout",
     "output_type": "stream",
     "text": [
      "MyDecisionTree(max_depth=6)\n"
     ]
    },
    {
     "data": {
      "text/plain": [
       "(@1 x[0]>=5.5|0.6666666666666667 [50 50 50])[\n",
       "(@2 x[0]>=6.2|0.5458142440649729 [ 5 44 49])[\n",
       "(@3 x[0]>=7.1|0.4125619834710743 [ 0 16 39])[\n",
       "<@4 0 [ 0  0 12];2>][\n",
       "(@4 x[1]>=2.5|0.4672796106003245 [ 0 16 27])[\n",
       "(@5 x[0]>=7.0|0.44973230220107074 [ 0 14 27])[\n",
       "<@6 0.0 [0 1 0];1>][\n",
       "<@6 0.43875 [ 0 13 27];2>]][\n",
       "<@5 0 [0 2 0];1>]]][\n",
       "(@3 x[1]>=3.5|0.5083829096809085 [ 5 28 10])[\n",
       "<@4 0 [5 0 0];0>][\n",
       "(@4 x[0]>=5.8|0.38781163434903054 [ 0 28 10])[\n",
       "(@5 x[1]>=3.2|0.47165532879818595 [ 0 13  8])[\n",
       "<@6 0.0 [0 2 0];1>][\n",
       "<@6 0.48753462603878117 [ 0 11  8];1>]][\n",
       "(@5 x[0]>=5.6|0.20761245674740492 [ 0 15  2])[\n",
       "<@6 0.2777777777777777 [ 0 10  2];1>][\n",
       "<@6 0.0 [0 5 0];1>]]]]][\n",
       "(@2 x[1]>=2.9|0.2374260355029585 [45  6  1])[\n",
       "(@3 x[0]>=5.4|0.04345679012345682 [44  1  0])[\n",
       "(@4 x[1]>=3.4|0.2777777777777777 [5 1 0])[\n",
       "<@5 0 [5 0 0];0>][\n",
       "<@5 0 [0 1 0];1>]][\n",
       "<@4 0 [39  0  0];0>]][\n",
       "(@3 x[0]>=4.9|0.44897959183673464 [1 5 1])[\n",
       "(@4 x[0]>=5.0|0.2777777777777777 [0 5 1])[\n",
       "<@5 0 [0 4 0];1>][\n",
       "(@5 x[1]>=2.5|0.5 [0 1 1])[\n",
       "<@6 0.0 [0 0 1];2>][\n",
       "<@6 0.0 [0 1 0];1>]]][\n",
       "<@4 0 [1 0 0];0>]]]"
      ]
     },
     "execution_count": 102,
     "metadata": {},
     "output_type": "execute_result"
    }
   ],
   "source": [
    "dt = MyDecisionTree(6)\n",
    "dt.fit(data01, target01)\n",
    "acc = dt.score(data01, target01)\n",
    "\n",
    "print(dt)\n",
    "dt.tree"
   ]
  },
  {
   "cell_type": "code",
   "execution_count": 101,
   "metadata": {},
   "outputs": [
    {
     "data": {
      "text/plain": [
       "<matplotlib.collections.PathCollection at 0x7f94adbbdba8>"
      ]
     },
     "execution_count": 101,
     "metadata": {},
     "output_type": "execute_result"
    },
    {
     "data": {
      "image/png": "[encoded data removed]",
      "text/plain": [
       "<Figure size 432x288 with 1 Axes>"
      ]
     },
     "metadata": {
      "needs_background": "light"
     },
     "output_type": "display_data"
    }
   ],
   "source": [
    "cmap = ListedColormap(('red', 'blue', 'green' ))\n",
    "x_min, x_max = 4.0, 8.0\n",
    "y_min, y_max = 1.8, 4.5\n",
    "xx = np.linspace(x_min, x_max, 500)\n",
    "yy = np.linspace(y_min, y_max, 500)\n",
    "x_mesh, y_mesh = np.meshgrid(xx, yy)\n",
    "z = dt.predict(np.array([x_mesh.ravel(), y_mesh.ravel()]).T).reshape(x_mesh.shape)\n",
    "plt.contourf(xx, yy, z, alpha=0.1, cmap=cmap)\n",
    "plt.scatter(data01[:, 0], data01[:, 1], c=target01, cmap=cmap, alpha=0.5)\n",
    "plt.title(f\"acc={acc}\")\n",
    "# fail\n",
    "fail_idx = (target01 != dt.predict(data01))\n",
    "plt.scatter(data01[fail_idx, 0], data01[fail_idx, 1], c=target01[fail_idx], cmap=cmap, \n",
    "            marker='+', s=100)"
   ]
  },
  {
   "cell_type": "code",
   "execution_count": 75,
   "metadata": {},
   "outputs": [
    {
     "name": "stdout",
     "output_type": "stream",
     "text": [
      "1\n",
      "2\n",
      "3\n",
      "3\n",
      "2\n",
      "3\n",
      "4\n",
      "5\n",
      "5\n",
      "4\n",
      "3\n",
      "4\n",
      "4\n"
     ]
    },
    {
     "data": {
      "text/plain": [
       "array([0.])"
      ]
     },
     "execution_count": 75,
     "metadata": {},
     "output_type": "execute_result"
    }
   ],
   "source": [
    "dt.predict(np.array([[3.1, 5]]))"
   ]
  }
 ],
 "metadata": {
  "kernelspec": {
   "display_name": "Python 3",
   "language": "python",
   "name": "python3"
  },
  "language_info": {
   "codemirror_mode": {
    "name": "ipython",
    "version": 3
   },
   "file_extension": ".py",
   "mimetype": "text/x-python",
   "name": "python",
   "nbconvert_exporter": "python",
   "pygments_lexer": "ipython3",
   "version": "3.7.2"
  }
 },
 "nbformat": 4,
 "nbformat_minor": 2
}
